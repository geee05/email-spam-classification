{
  "nbformat": 4,
  "nbformat_minor": 0,
  "metadata": {
    "colab": {
      "provenance": [],
      "authorship_tag": "ABX9TyPfyRiJs0eWgD+mwYRepF3U",
      "include_colab_link": true
    },
    "kernelspec": {
      "name": "python3",
      "display_name": "Python 3"
    },
    "language_info": {
      "name": "python"
    }
  },
  "cells": [
    {
      "cell_type": "markdown",
      "metadata": {
        "id": "view-in-github",
        "colab_type": "text"
      },
      "source": [
        "<a href=\"https://colab.research.google.com/github/geee05/email-spam-classification/blob/main/Email_Spam_Classification.ipynb\" target=\"_parent\"><img src=\"https://colab.research.google.com/assets/colab-badge.svg\" alt=\"Open In Colab\"/></a>"
      ]
    },
    {
      "cell_type": "markdown",
      "source": [
        "##NLP TO CONVERT TEXTUAL DATA TO NUMERICAL DATA"
      ],
      "metadata": {
        "id": "KSsv8zVyI7rh"
      }
    },
    {
      "cell_type": "markdown",
      "source": [
        "Importing necessary libraries for nlp "
      ],
      "metadata": {
        "id": "Rxx9D0FmvVIc"
      }
    },
    {
      "cell_type": "code",
      "execution_count": null,
      "metadata": {
        "colab": {
          "base_uri": "https://localhost:8080/"
        },
        "id": "s_v_vF-JTxtt",
        "outputId": "bd50fa7e-22ac-472d-c614-2162ad178fb1"
      },
      "outputs": [
        {
          "output_type": "stream",
          "name": "stdout",
          "text": [
            "[nltk_data] Downloading package punkt to /root/nltk_data...\n",
            "[nltk_data]   Unzipping tokenizers/punkt.zip.\n"
          ]
        },
        {
          "output_type": "execute_result",
          "data": {
            "text/plain": [
              "True"
            ]
          },
          "metadata": {},
          "execution_count": 1
        }
      ],
      "source": [
        "import nltk\n",
        "nltk.download('punkt')"
      ]
    },
    {
      "cell_type": "markdown",
      "source": [
        "STEP 1 : Tokenize"
      ],
      "metadata": {
        "id": "gMZ5M57wvbv9"
      }
    },
    {
      "cell_type": "code",
      "source": [
        "from nltk.tokenize import RegexpTokenizer\n",
        "\n",
        "tokenizer = RegexpTokenizer('\\w+')"
      ],
      "metadata": {
        "id": "3FCULCFoT6yZ"
      },
      "execution_count": null,
      "outputs": []
    },
    {
      "cell_type": "code",
      "source": [
        "def tok(x):\n",
        "  return(tokenizer.tokenize(x))"
      ],
      "metadata": {
        "id": "BMlYWACUUT0p"
      },
      "execution_count": null,
      "outputs": []
    },
    {
      "cell_type": "markdown",
      "source": [
        "STEP 2 : Cleaning ( by removing numbers and underscores )"
      ],
      "metadata": {
        "id": "SFTLTM9jvhF1"
      }
    },
    {
      "cell_type": "code",
      "source": [
        "import re"
      ],
      "metadata": {
        "id": "59j2TpWPVZXj"
      },
      "execution_count": null,
      "outputs": []
    },
    {
      "cell_type": "code",
      "source": [
        "def remsc(text):\n",
        "  pattern ='[0-9_]'\n",
        "  data = [re.sub(pattern,' ',i) for i in text]\n",
        "  return data"
      ],
      "metadata": {
        "id": "En8qeXbnVa_s"
      },
      "execution_count": null,
      "outputs": []
    },
    {
      "cell_type": "markdown",
      "source": [
        "STEP 3 : Listing out the StopWords"
      ],
      "metadata": {
        "id": "89QofSNqW7Ww"
      }
    },
    {
      "cell_type": "code",
      "source": [
        "from nltk.corpus import stopwords\n",
        "nltk.download('stopwords')"
      ],
      "metadata": {
        "colab": {
          "base_uri": "https://localhost:8080/"
        },
        "id": "zW8ca48TW1xC",
        "outputId": "5a8fab81-0761-44c2-cb7c-e33488285ee1"
      },
      "execution_count": null,
      "outputs": [
        {
          "output_type": "stream",
          "name": "stdout",
          "text": [
            "[nltk_data] Downloading package stopwords to /root/nltk_data...\n",
            "[nltk_data]   Unzipping corpora/stopwords.zip.\n"
          ]
        },
        {
          "output_type": "execute_result",
          "data": {
            "text/plain": [
              "True"
            ]
          },
          "metadata": {},
          "execution_count": 6
        }
      ]
    },
    {
      "cell_type": "code",
      "source": [
        "SW = stopwords.words('english')  ##can also use for other languages : stopwords.words('french)\n",
        "SW"
      ],
      "metadata": {
        "colab": {
          "base_uri": "https://localhost:8080/"
        },
        "id": "lko56nKpXFbq",
        "outputId": "09e422d1-3ed6-4c44-8ac0-46f4889ac709"
      },
      "execution_count": null,
      "outputs": [
        {
          "output_type": "execute_result",
          "data": {
            "text/plain": [
              "['i',\n",
              " 'me',\n",
              " 'my',\n",
              " 'myself',\n",
              " 'we',\n",
              " 'our',\n",
              " 'ours',\n",
              " 'ourselves',\n",
              " 'you',\n",
              " \"you're\",\n",
              " \"you've\",\n",
              " \"you'll\",\n",
              " \"you'd\",\n",
              " 'your',\n",
              " 'yours',\n",
              " 'yourself',\n",
              " 'yourselves',\n",
              " 'he',\n",
              " 'him',\n",
              " 'his',\n",
              " 'himself',\n",
              " 'she',\n",
              " \"she's\",\n",
              " 'her',\n",
              " 'hers',\n",
              " 'herself',\n",
              " 'it',\n",
              " \"it's\",\n",
              " 'its',\n",
              " 'itself',\n",
              " 'they',\n",
              " 'them',\n",
              " 'their',\n",
              " 'theirs',\n",
              " 'themselves',\n",
              " 'what',\n",
              " 'which',\n",
              " 'who',\n",
              " 'whom',\n",
              " 'this',\n",
              " 'that',\n",
              " \"that'll\",\n",
              " 'these',\n",
              " 'those',\n",
              " 'am',\n",
              " 'is',\n",
              " 'are',\n",
              " 'was',\n",
              " 'were',\n",
              " 'be',\n",
              " 'been',\n",
              " 'being',\n",
              " 'have',\n",
              " 'has',\n",
              " 'had',\n",
              " 'having',\n",
              " 'do',\n",
              " 'does',\n",
              " 'did',\n",
              " 'doing',\n",
              " 'a',\n",
              " 'an',\n",
              " 'the',\n",
              " 'and',\n",
              " 'but',\n",
              " 'if',\n",
              " 'or',\n",
              " 'because',\n",
              " 'as',\n",
              " 'until',\n",
              " 'while',\n",
              " 'of',\n",
              " 'at',\n",
              " 'by',\n",
              " 'for',\n",
              " 'with',\n",
              " 'about',\n",
              " 'against',\n",
              " 'between',\n",
              " 'into',\n",
              " 'through',\n",
              " 'during',\n",
              " 'before',\n",
              " 'after',\n",
              " 'above',\n",
              " 'below',\n",
              " 'to',\n",
              " 'from',\n",
              " 'up',\n",
              " 'down',\n",
              " 'in',\n",
              " 'out',\n",
              " 'on',\n",
              " 'off',\n",
              " 'over',\n",
              " 'under',\n",
              " 'again',\n",
              " 'further',\n",
              " 'then',\n",
              " 'once',\n",
              " 'here',\n",
              " 'there',\n",
              " 'when',\n",
              " 'where',\n",
              " 'why',\n",
              " 'how',\n",
              " 'all',\n",
              " 'any',\n",
              " 'both',\n",
              " 'each',\n",
              " 'few',\n",
              " 'more',\n",
              " 'most',\n",
              " 'other',\n",
              " 'some',\n",
              " 'such',\n",
              " 'no',\n",
              " 'nor',\n",
              " 'not',\n",
              " 'only',\n",
              " 'own',\n",
              " 'same',\n",
              " 'so',\n",
              " 'than',\n",
              " 'too',\n",
              " 'very',\n",
              " 's',\n",
              " 't',\n",
              " 'can',\n",
              " 'will',\n",
              " 'just',\n",
              " 'don',\n",
              " \"don't\",\n",
              " 'should',\n",
              " \"should've\",\n",
              " 'now',\n",
              " 'd',\n",
              " 'll',\n",
              " 'm',\n",
              " 'o',\n",
              " 're',\n",
              " 've',\n",
              " 'y',\n",
              " 'ain',\n",
              " 'aren',\n",
              " \"aren't\",\n",
              " 'couldn',\n",
              " \"couldn't\",\n",
              " 'didn',\n",
              " \"didn't\",\n",
              " 'doesn',\n",
              " \"doesn't\",\n",
              " 'hadn',\n",
              " \"hadn't\",\n",
              " 'hasn',\n",
              " \"hasn't\",\n",
              " 'haven',\n",
              " \"haven't\",\n",
              " 'isn',\n",
              " \"isn't\",\n",
              " 'ma',\n",
              " 'mightn',\n",
              " \"mightn't\",\n",
              " 'mustn',\n",
              " \"mustn't\",\n",
              " 'needn',\n",
              " \"needn't\",\n",
              " 'shan',\n",
              " \"shan't\",\n",
              " 'shouldn',\n",
              " \"shouldn't\",\n",
              " 'wasn',\n",
              " \"wasn't\",\n",
              " 'weren',\n",
              " \"weren't\",\n",
              " 'won',\n",
              " \"won't\",\n",
              " 'wouldn',\n",
              " \"wouldn't\"]"
            ]
          },
          "metadata": {},
          "execution_count": 7
        }
      ]
    },
    {
      "cell_type": "markdown",
      "source": [
        "STEP 4 : Bag of Words"
      ],
      "metadata": {
        "id": "P4JZeg6nZuMx"
      }
    },
    {
      "cell_type": "markdown",
      "source": [
        "~create 6 sentences and put them into a list"
      ],
      "metadata": {
        "id": "u3tNWQYTCDhs"
      }
    },
    {
      "cell_type": "code",
      "source": [
        "s1 = 'Send us your @ password'\n",
        "s2 = 'Send us your #review'\n",
        "s3 = 'Review your _password'\n",
        "s4 = 'Review us'\n",
        "s5 = 'Send your 10 password'\n",
        "s6 = 'Send us your account'\n",
        "x = [s1, s2, s3, s4, s5, s6]"
      ],
      "metadata": {
        "id": "G8rbY-85ZbCr"
      },
      "execution_count": null,
      "outputs": []
    },
    {
      "cell_type": "code",
      "source": [
        "data = remsc(x)\n",
        "data"
      ],
      "metadata": {
        "colab": {
          "base_uri": "https://localhost:8080/"
        },
        "id": "G1nq13InaqqU",
        "outputId": "1a66b11a-6d7b-48c7-9550-78b260f84420"
      },
      "execution_count": null,
      "outputs": [
        {
          "output_type": "execute_result",
          "data": {
            "text/plain": [
              "['Send us your @ password',\n",
              " 'Send us your #review',\n",
              " 'Review your  password',\n",
              " 'Review us',\n",
              " 'Send your    password',\n",
              " 'Send us your account']"
            ]
          },
          "metadata": {},
          "execution_count": 34
        }
      ]
    },
    {
      "cell_type": "markdown",
      "source": [
        "STEP 7 : Vectorisation"
      ],
      "metadata": {
        "id": "jq_3IncnG5TU"
      }
    },
    {
      "cell_type": "code",
      "source": [
        "from sklearn.feature_extraction.text import TfidfVectorizer\n",
        "Vectorizer = TfidfVectorizer(tokenizer=tok, stop_words=SW, ngram_range=(2, 2))"
      ],
      "metadata": {
        "id": "ZyJ_A1TgcFur"
      },
      "execution_count": null,
      "outputs": []
    },
    {
      "cell_type": "code",
      "source": [
        "my_final_matrix= Vectorizer.fit_transform(data)\n",
        "print(my_final_matrix.toarray())"
      ],
      "metadata": {
        "colab": {
          "base_uri": "https://localhost:8080/"
        },
        "id": "17ASO0CTdBN6",
        "outputId": "07ae5c0a-719a-4505-f139-6da20eb38195"
      },
      "execution_count": null,
      "outputs": [
        {
          "output_type": "stream",
          "name": "stdout",
          "text": [
            "[[0.         0.         0.         0.         0.56921261 0.\n",
            "  0.82219037 0.        ]\n",
            " [0.         0.         0.         0.         0.56921261 0.\n",
            "  0.         0.82219037]\n",
            " [0.         1.         0.         0.         0.         0.\n",
            "  0.         0.        ]\n",
            " [0.         0.         1.         0.         0.         0.\n",
            "  0.         0.        ]\n",
            " [0.70710678 0.         0.         0.70710678 0.         0.\n",
            "  0.         0.        ]\n",
            " [0.         0.         0.         0.         0.56921261 0.82219037\n",
            "  0.         0.        ]]\n"
          ]
        }
      ]
    },
    {
      "cell_type": "code",
      "source": [
        "Vectorizer.get_feature_names()"
      ],
      "metadata": {
        "colab": {
          "base_uri": "https://localhost:8080/"
        },
        "id": "hX34ST49dkaY",
        "outputId": "b748770a-3d1e-48b5-fb97-6d434447b86f"
      },
      "execution_count": null,
      "outputs": [
        {
          "output_type": "stream",
          "name": "stderr",
          "text": [
            "/usr/local/lib/python3.7/dist-packages/sklearn/utils/deprecation.py:87: FutureWarning: Function get_feature_names is deprecated; get_feature_names is deprecated in 1.0 and will be removed in 1.2. Please use get_feature_names_out instead.\n",
            "  warnings.warn(msg, category=FutureWarning)\n"
          ]
        },
        {
          "output_type": "execute_result",
          "data": {
            "text/plain": [
              "['1 password',\n",
              " 'review password',\n",
              " 'review us',\n",
              " 'send 1',\n",
              " 'send us',\n",
              " 'us account',\n",
              " 'us password',\n",
              " 'us review']"
            ]
          },
          "metadata": {},
          "execution_count": 12
        }
      ]
    },
    {
      "cell_type": "markdown",
      "source": [
        "##EMAIL SPAM CLASSIFIER"
      ],
      "metadata": {
        "id": "BpJksS_DITa1"
      }
    },
    {
      "cell_type": "markdown",
      "source": [
        "Importing the data"
      ],
      "metadata": {
        "id": "5CKX3c53OmcW"
      }
    },
    {
      "cell_type": "code",
      "source": [
        "from google.colab import drive\n",
        "drive.mount('/gdrive')"
      ],
      "metadata": {
        "colab": {
          "base_uri": "https://localhost:8080/"
        },
        "id": "dWBg63_Ue51x",
        "outputId": "7c4c33cc-3bf4-4f3b-fb7d-f70e65fa7386"
      },
      "execution_count": null,
      "outputs": [
        {
          "output_type": "stream",
          "name": "stdout",
          "text": [
            "Mounted at /gdrive\n"
          ]
        }
      ]
    },
    {
      "cell_type": "code",
      "source": [
        "import pandas as pd\n",
        "import numpy as np"
      ],
      "metadata": {
        "id": "A4HmSvDsfM04"
      },
      "execution_count": null,
      "outputs": []
    },
    {
      "cell_type": "code",
      "source": [
        "path = '/gdrive/My Drive/Data/'"
      ],
      "metadata": {
        "id": "3C4POX-YfWTA"
      },
      "execution_count": null,
      "outputs": []
    },
    {
      "cell_type": "code",
      "source": [
        "data = pd.read_csv(path+'emails.csv')"
      ],
      "metadata": {
        "id": "BqfTvwHdfyCB"
      },
      "execution_count": null,
      "outputs": []
    },
    {
      "cell_type": "code",
      "source": [
        "data.head()"
      ],
      "metadata": {
        "colab": {
          "base_uri": "https://localhost:8080/",
          "height": 206
        },
        "id": "jdSAItsRgq8C",
        "outputId": "8c917834-bf45-45fb-bdfb-dad30c041623"
      },
      "execution_count": null,
      "outputs": [
        {
          "output_type": "execute_result",
          "data": {
            "text/plain": [
              "                                                text  spam\n",
              "0  Subject: naturally irresistible your corporate...     1\n",
              "1  Subject: the stock trading gunslinger  fanny i...     1\n",
              "2  Subject: unbelievable new homes made easy  im ...     1\n",
              "3  Subject: 4 color printing special  request add...     1\n",
              "4  Subject: do not have money , get software cds ...     1"
            ],
            "text/html": [
              "\n",
              "  <div id=\"df-6ee1be9c-3e28-4e7a-bde1-8317b7f652df\">\n",
              "    <div class=\"colab-df-container\">\n",
              "      <div>\n",
              "<style scoped>\n",
              "    .dataframe tbody tr th:only-of-type {\n",
              "        vertical-align: middle;\n",
              "    }\n",
              "\n",
              "    .dataframe tbody tr th {\n",
              "        vertical-align: top;\n",
              "    }\n",
              "\n",
              "    .dataframe thead th {\n",
              "        text-align: right;\n",
              "    }\n",
              "</style>\n",
              "<table border=\"1\" class=\"dataframe\">\n",
              "  <thead>\n",
              "    <tr style=\"text-align: right;\">\n",
              "      <th></th>\n",
              "      <th>text</th>\n",
              "      <th>spam</th>\n",
              "    </tr>\n",
              "  </thead>\n",
              "  <tbody>\n",
              "    <tr>\n",
              "      <th>0</th>\n",
              "      <td>Subject: naturally irresistible your corporate...</td>\n",
              "      <td>1</td>\n",
              "    </tr>\n",
              "    <tr>\n",
              "      <th>1</th>\n",
              "      <td>Subject: the stock trading gunslinger  fanny i...</td>\n",
              "      <td>1</td>\n",
              "    </tr>\n",
              "    <tr>\n",
              "      <th>2</th>\n",
              "      <td>Subject: unbelievable new homes made easy  im ...</td>\n",
              "      <td>1</td>\n",
              "    </tr>\n",
              "    <tr>\n",
              "      <th>3</th>\n",
              "      <td>Subject: 4 color printing special  request add...</td>\n",
              "      <td>1</td>\n",
              "    </tr>\n",
              "    <tr>\n",
              "      <th>4</th>\n",
              "      <td>Subject: do not have money , get software cds ...</td>\n",
              "      <td>1</td>\n",
              "    </tr>\n",
              "  </tbody>\n",
              "</table>\n",
              "</div>\n",
              "      <button class=\"colab-df-convert\" onclick=\"convertToInteractive('df-6ee1be9c-3e28-4e7a-bde1-8317b7f652df')\"\n",
              "              title=\"Convert this dataframe to an interactive table.\"\n",
              "              style=\"display:none;\">\n",
              "        \n",
              "  <svg xmlns=\"http://www.w3.org/2000/svg\" height=\"24px\"viewBox=\"0 0 24 24\"\n",
              "       width=\"24px\">\n",
              "    <path d=\"M0 0h24v24H0V0z\" fill=\"none\"/>\n",
              "    <path d=\"M18.56 5.44l.94 2.06.94-2.06 2.06-.94-2.06-.94-.94-2.06-.94 2.06-2.06.94zm-11 1L8.5 8.5l.94-2.06 2.06-.94-2.06-.94L8.5 2.5l-.94 2.06-2.06.94zm10 10l.94 2.06.94-2.06 2.06-.94-2.06-.94-.94-2.06-.94 2.06-2.06.94z\"/><path d=\"M17.41 7.96l-1.37-1.37c-.4-.4-.92-.59-1.43-.59-.52 0-1.04.2-1.43.59L10.3 9.45l-7.72 7.72c-.78.78-.78 2.05 0 2.83L4 21.41c.39.39.9.59 1.41.59.51 0 1.02-.2 1.41-.59l7.78-7.78 2.81-2.81c.8-.78.8-2.07 0-2.86zM5.41 20L4 18.59l7.72-7.72 1.47 1.35L5.41 20z\"/>\n",
              "  </svg>\n",
              "      </button>\n",
              "      \n",
              "  <style>\n",
              "    .colab-df-container {\n",
              "      display:flex;\n",
              "      flex-wrap:wrap;\n",
              "      gap: 12px;\n",
              "    }\n",
              "\n",
              "    .colab-df-convert {\n",
              "      background-color: #E8F0FE;\n",
              "      border: none;\n",
              "      border-radius: 50%;\n",
              "      cursor: pointer;\n",
              "      display: none;\n",
              "      fill: #1967D2;\n",
              "      height: 32px;\n",
              "      padding: 0 0 0 0;\n",
              "      width: 32px;\n",
              "    }\n",
              "\n",
              "    .colab-df-convert:hover {\n",
              "      background-color: #E2EBFA;\n",
              "      box-shadow: 0px 1px 2px rgba(60, 64, 67, 0.3), 0px 1px 3px 1px rgba(60, 64, 67, 0.15);\n",
              "      fill: #174EA6;\n",
              "    }\n",
              "\n",
              "    [theme=dark] .colab-df-convert {\n",
              "      background-color: #3B4455;\n",
              "      fill: #D2E3FC;\n",
              "    }\n",
              "\n",
              "    [theme=dark] .colab-df-convert:hover {\n",
              "      background-color: #434B5C;\n",
              "      box-shadow: 0px 1px 3px 1px rgba(0, 0, 0, 0.15);\n",
              "      filter: drop-shadow(0px 1px 2px rgba(0, 0, 0, 0.3));\n",
              "      fill: #FFFFFF;\n",
              "    }\n",
              "  </style>\n",
              "\n",
              "      <script>\n",
              "        const buttonEl =\n",
              "          document.querySelector('#df-6ee1be9c-3e28-4e7a-bde1-8317b7f652df button.colab-df-convert');\n",
              "        buttonEl.style.display =\n",
              "          google.colab.kernel.accessAllowed ? 'block' : 'none';\n",
              "\n",
              "        async function convertToInteractive(key) {\n",
              "          const element = document.querySelector('#df-6ee1be9c-3e28-4e7a-bde1-8317b7f652df');\n",
              "          const dataTable =\n",
              "            await google.colab.kernel.invokeFunction('convertToInteractive',\n",
              "                                                     [key], {});\n",
              "          if (!dataTable) return;\n",
              "\n",
              "          const docLinkHtml = 'Like what you see? Visit the ' +\n",
              "            '<a target=\"_blank\" href=https://colab.research.google.com/notebooks/data_table.ipynb>data table notebook</a>'\n",
              "            + ' to learn more about interactive tables.';\n",
              "          element.innerHTML = '';\n",
              "          dataTable['output_type'] = 'display_data';\n",
              "          await google.colab.output.renderOutput(dataTable, element);\n",
              "          const docLink = document.createElement('div');\n",
              "          docLink.innerHTML = docLinkHtml;\n",
              "          element.appendChild(docLink);\n",
              "        }\n",
              "      </script>\n",
              "    </div>\n",
              "  </div>\n",
              "  "
            ]
          },
          "metadata": {},
          "execution_count": 17
        }
      ]
    },
    {
      "cell_type": "code",
      "source": [
        "data.shape"
      ],
      "metadata": {
        "colab": {
          "base_uri": "https://localhost:8080/"
        },
        "id": "igC6ko0ggszs",
        "outputId": "feb1c98e-5cb5-458c-f86e-2ad2b83bd629"
      },
      "execution_count": null,
      "outputs": [
        {
          "output_type": "execute_result",
          "data": {
            "text/plain": [
              "(5728, 2)"
            ]
          },
          "metadata": {},
          "execution_count": 18
        }
      ]
    },
    {
      "cell_type": "code",
      "source": [
        "x = data['text']\n",
        "y = data['spam']"
      ],
      "metadata": {
        "id": "NLnhwTgfgun6"
      },
      "execution_count": null,
      "outputs": []
    },
    {
      "cell_type": "code",
      "source": [
        "print(\"counts of spam: {} , label is {}\".format(sum(y==1), '1'))\n",
        "print(\"counts of not_spam: {} , label is {}\".format(sum(y==0), '0'))"
      ],
      "metadata": {
        "colab": {
          "base_uri": "https://localhost:8080/"
        },
        "id": "QdZbBhXCg3zs",
        "outputId": "6d59ed5c-5644-4b6a-aa13-4d22d184dff4"
      },
      "execution_count": null,
      "outputs": [
        {
          "output_type": "stream",
          "name": "stdout",
          "text": [
            "counts of spam: 1368 , label is 1\n",
            "counts of not_spam: 4360 , label is 0\n"
          ]
        }
      ]
    },
    {
      "cell_type": "code",
      "source": [
        "x = x.values.tolist()\n",
        "type(x)"
      ],
      "metadata": {
        "colab": {
          "base_uri": "https://localhost:8080/"
        },
        "id": "7N_AdsxRh0XZ",
        "outputId": "efbf2fda-bf9b-4ca2-e3da-cc92d6775275"
      },
      "execution_count": null,
      "outputs": [
        {
          "output_type": "execute_result",
          "data": {
            "text/plain": [
              "list"
            ]
          },
          "metadata": {},
          "execution_count": 21
        }
      ]
    },
    {
      "cell_type": "markdown",
      "source": [
        "Pre-Process Text Data"
      ],
      "metadata": {
        "id": "KZ3rVQWSOqUX"
      }
    },
    {
      "cell_type": "code",
      "source": [
        "data = remsc(x)\n",
        "my_Vectorizer = TfidfVectorizer(tokenizer=tok, stop_words=SW, ngram_range=(1,1))"
      ],
      "metadata": {
        "id": "5dQui1IiisXm"
      },
      "execution_count": null,
      "outputs": []
    },
    {
      "cell_type": "code",
      "source": [
        "Vector_x = my_Vectorizer.fit_transform(data)\n",
        "print(Vector_x.toarray())"
      ],
      "metadata": {
        "colab": {
          "base_uri": "https://localhost:8080/"
        },
        "id": "KOw0NCtOjSzT",
        "outputId": "aad4b4aa-f994-4c1c-d8e5-d3b5edd3f1a8"
      },
      "execution_count": null,
      "outputs": [
        {
          "output_type": "stream",
          "name": "stdout",
          "text": [
            "[[0.02614003 0.         0.         ... 0.         0.         0.        ]\n",
            " [0.         0.         0.         ... 0.         0.         0.        ]\n",
            " [0.04435505 0.         0.         ... 0.         0.         0.        ]\n",
            " ...\n",
            " [0.04618317 0.07938436 0.         ... 0.         0.         0.        ]\n",
            " [0.         0.0659117  0.         ... 0.         0.         0.        ]\n",
            " [0.01205108 0.         0.         ... 0.         0.         0.        ]]\n"
          ]
        }
      ]
    },
    {
      "cell_type": "code",
      "source": [
        "Vector_x.shape"
      ],
      "metadata": {
        "colab": {
          "base_uri": "https://localhost:8080/"
        },
        "id": "cr7qWynmjuTL",
        "outputId": "75786a78-ef9e-4333-f0f5-10a53c3585c8"
      },
      "execution_count": null,
      "outputs": [
        {
          "output_type": "execute_result",
          "data": {
            "text/plain": [
              "(5728, 35215)"
            ]
          },
          "metadata": {},
          "execution_count": 24
        }
      ]
    },
    {
      "cell_type": "code",
      "source": [
        "my_Vectorizer.get_feature_names()"
      ],
      "metadata": {
        "colab": {
          "base_uri": "https://localhost:8080/"
        },
        "id": "_LYG7Ibzjzr4",
        "outputId": "28975ea7-733b-4aa8-dda4-a61d46a532eb"
      },
      "execution_count": null,
      "outputs": [
        {
          "output_type": "stream",
          "name": "stderr",
          "text": [
            "/usr/local/lib/python3.7/dist-packages/sklearn/utils/deprecation.py:87: FutureWarning: Function get_feature_names is deprecated; get_feature_names is deprecated in 1.0 and will be removed in 1.2. Please use get_feature_names_out instead.\n",
            "  warnings.warn(msg, category=FutureWarning)\n"
          ]
        },
        {
          "output_type": "execute_result",
          "data": {
            "text/plain": [
              "['1',\n",
              " '11',\n",
              " '111',\n",
              " '1111',\n",
              " '1112',\n",
              " '1115',\n",
              " '11185',\n",
              " '112',\n",
              " '112177',\n",
              " '1123',\n",
              " '1124',\n",
              " '1126',\n",
              " '113',\n",
              " '1132',\n",
              " '114',\n",
              " '1143',\n",
              " '1144',\n",
              " '1145',\n",
              " '1147',\n",
              " '1148',\n",
              " '115',\n",
              " '1152',\n",
              " '1153',\n",
              " '115431',\n",
              " '1155',\n",
              " '116',\n",
              " '1163',\n",
              " '1165',\n",
              " '11654',\n",
              " '117',\n",
              " '1175',\n",
              " '118',\n",
              " '11822',\n",
              " '1187',\n",
              " '1188',\n",
              " '12',\n",
              " '121',\n",
              " '1211',\n",
              " '1212',\n",
              " '1218',\n",
              " '122',\n",
              " '1221',\n",
              " '1223',\n",
              " '1227',\n",
              " '1228',\n",
              " '123',\n",
              " '1231',\n",
              " '1232',\n",
              " '1234',\n",
              " '123542',\n",
              " '1237',\n",
              " '124',\n",
              " '1243',\n",
              " '1244',\n",
              " '125',\n",
              " '1251',\n",
              " '1252',\n",
              " '12521',\n",
              " '125217',\n",
              " '12522',\n",
              " '125223',\n",
              " '1254',\n",
              " '126',\n",
              " '1261',\n",
              " '1262',\n",
              " '126432211',\n",
              " '1266',\n",
              " '12677',\n",
              " '126812',\n",
              " '127',\n",
              " '12734',\n",
              " '12735',\n",
              " '12736',\n",
              " '12738',\n",
              " '12741',\n",
              " '128',\n",
              " '13',\n",
              " '131',\n",
              " '1311',\n",
              " '1313',\n",
              " '1314',\n",
              " '1317',\n",
              " '132',\n",
              " '1323',\n",
              " '1326',\n",
              " '13287',\n",
              " '133',\n",
              " '13317',\n",
              " '1332',\n",
              " '13326',\n",
              " '13333',\n",
              " '133777',\n",
              " '134',\n",
              " '1341',\n",
              " '13417514',\n",
              " '1345218',\n",
              " '1346',\n",
              " '1347',\n",
              " '1348',\n",
              " '135',\n",
              " '136',\n",
              " '1362',\n",
              " '13662',\n",
              " '13681',\n",
              " '137',\n",
              " '1371',\n",
              " '1373',\n",
              " '138',\n",
              " '1382',\n",
              " '1383',\n",
              " '1385',\n",
              " '14',\n",
              " '141',\n",
              " '1411',\n",
              " '1412',\n",
              " '14123',\n",
              " '1413',\n",
              " '1414',\n",
              " '142',\n",
              " '1421',\n",
              " '14216',\n",
              " '1424',\n",
              " '1426',\n",
              " '142756',\n",
              " '143',\n",
              " '1438',\n",
              " '144',\n",
              " '1444',\n",
              " '145',\n",
              " '1451',\n",
              " '14515',\n",
              " '1453',\n",
              " '1457',\n",
              " '146',\n",
              " '1461',\n",
              " '1464',\n",
              " '1465',\n",
              " '1467',\n",
              " '147',\n",
              " '148',\n",
              " '1481',\n",
              " '1483',\n",
              " '1487',\n",
              " '14882',\n",
              " '15',\n",
              " '151',\n",
              " '1511',\n",
              " '15116',\n",
              " '1512',\n",
              " '1515',\n",
              " '15177',\n",
              " '152',\n",
              " '1521',\n",
              " '15213',\n",
              " '1523',\n",
              " '1524',\n",
              " '1525',\n",
              " '153',\n",
              " '1533',\n",
              " '1534',\n",
              " '1535',\n",
              " '15384',\n",
              " '154',\n",
              " '15415',\n",
              " '1543',\n",
              " '1545',\n",
              " '155',\n",
              " '156',\n",
              " '1562',\n",
              " '15648',\n",
              " '1565',\n",
              " '157',\n",
              " '1572',\n",
              " '1575332211111',\n",
              " '158',\n",
              " '158545',\n",
              " '16',\n",
              " '161',\n",
              " '1615',\n",
              " '1618',\n",
              " '162',\n",
              " '162182',\n",
              " '1622',\n",
              " '1628',\n",
              " '163',\n",
              " '1631',\n",
              " '1635',\n",
              " '164',\n",
              " '1643',\n",
              " '1645',\n",
              " '165',\n",
              " '1654614',\n",
              " '1658',\n",
              " '166',\n",
              " '1663',\n",
              " '1667',\n",
              " '167',\n",
              " '1672',\n",
              " '1676',\n",
              " '1678',\n",
              " '168',\n",
              " '1681',\n",
              " '16822',\n",
              " '1685',\n",
              " '17',\n",
              " '171',\n",
              " '1717',\n",
              " '172',\n",
              " '1722452',\n",
              " '173',\n",
              " '1735',\n",
              " '174',\n",
              " '1741',\n",
              " '175',\n",
              " '1753',\n",
              " '176',\n",
              " '1762',\n",
              " '1763',\n",
              " '177',\n",
              " '1776',\n",
              " '1777',\n",
              " '1778',\n",
              " '178',\n",
              " '18',\n",
              " '181',\n",
              " '1815',\n",
              " '1816',\n",
              " '182',\n",
              " '182161',\n",
              " '1823',\n",
              " '1825',\n",
              " '1827',\n",
              " '183',\n",
              " '1836',\n",
              " '184',\n",
              " '1845',\n",
              " '1846',\n",
              " '1848',\n",
              " '185',\n",
              " '18525',\n",
              " '1854',\n",
              " '18553',\n",
              " '185531',\n",
              " '186',\n",
              " '1862',\n",
              " '1864',\n",
              " '1867',\n",
              " '187',\n",
              " '1877',\n",
              " '1878',\n",
              " '188',\n",
              " '2',\n",
              " '21',\n",
              " '211',\n",
              " '2114',\n",
              " '212',\n",
              " '21231',\n",
              " '21245',\n",
              " '2125',\n",
              " '213',\n",
              " '2134',\n",
              " '2136',\n",
              " '21362',\n",
              " '21377',\n",
              " '2138',\n",
              " '214',\n",
              " '2142',\n",
              " '2144',\n",
              " '215',\n",
              " '2155',\n",
              " '215573',\n",
              " '2158',\n",
              " '216',\n",
              " '2161',\n",
              " '2163',\n",
              " '217',\n",
              " '2174',\n",
              " '2175',\n",
              " '218',\n",
              " '2181',\n",
              " '218135',\n",
              " '2184',\n",
              " '21846',\n",
              " '2185',\n",
              " '2187',\n",
              " '22',\n",
              " '221',\n",
              " '2214',\n",
              " '2215',\n",
              " '222',\n",
              " '2222',\n",
              " '2224',\n",
              " '2227',\n",
              " '2228',\n",
              " '223',\n",
              " '22311',\n",
              " '22343',\n",
              " '2236',\n",
              " '2238',\n",
              " '224',\n",
              " '2241',\n",
              " '2243',\n",
              " '225',\n",
              " '2251232',\n",
              " '2258',\n",
              " '226',\n",
              " '2261',\n",
              " '2262',\n",
              " '227',\n",
              " '22715',\n",
              " '2273',\n",
              " '2277',\n",
              " '228',\n",
              " '2282',\n",
              " '2287',\n",
              " '23',\n",
              " '231',\n",
              " '231175433222211111111',\n",
              " '2312',\n",
              " '23123',\n",
              " '23133',\n",
              " '23137',\n",
              " '23154',\n",
              " '2316',\n",
              " '2317',\n",
              " '23182',\n",
              " '232',\n",
              " '2322',\n",
              " '2326653',\n",
              " '233',\n",
              " '234',\n",
              " '2344',\n",
              " '23463',\n",
              " '234875',\n",
              " '235',\n",
              " '235424',\n",
              " '2355',\n",
              " '2357',\n",
              " '236',\n",
              " '2361',\n",
              " '237',\n",
              " '2372',\n",
              " '2373',\n",
              " '2374',\n",
              " '238',\n",
              " '23834',\n",
              " '2385',\n",
              " '23875',\n",
              " '23887',\n",
              " '24',\n",
              " '241',\n",
              " '2415',\n",
              " '2416',\n",
              " '242',\n",
              " '2426',\n",
              " '243',\n",
              " '24344',\n",
              " '2438',\n",
              " '244',\n",
              " '24433',\n",
              " '2447',\n",
              " '245',\n",
              " '246',\n",
              " '24632',\n",
              " '2466',\n",
              " '247',\n",
              " '2472',\n",
              " '24772',\n",
              " '248',\n",
              " '24815387',\n",
              " '24815476',\n",
              " '248155',\n",
              " '248156',\n",
              " '24815823',\n",
              " '24815886',\n",
              " '24816188',\n",
              " '2481715',\n",
              " '24817172',\n",
              " '2485',\n",
              " '25',\n",
              " '251',\n",
              " '2516',\n",
              " '25177',\n",
              " '252',\n",
              " '2521',\n",
              " '2522',\n",
              " '2523',\n",
              " '253',\n",
              " '25312',\n",
              " '2532',\n",
              " '254',\n",
              " '2545',\n",
              " '255',\n",
              " '2554',\n",
              " '256',\n",
              " '2562',\n",
              " '257',\n",
              " '2571',\n",
              " '25711',\n",
              " '2573',\n",
              " '2575',\n",
              " '2577',\n",
              " '257853',\n",
              " '258',\n",
              " '2581',\n",
              " '2585',\n",
              " '26',\n",
              " '261',\n",
              " '2614',\n",
              " '2615',\n",
              " '26173',\n",
              " '262',\n",
              " '2624',\n",
              " '2626',\n",
              " '2628',\n",
              " '263',\n",
              " '2631',\n",
              " '26342',\n",
              " '2636',\n",
              " '26371545',\n",
              " '264',\n",
              " '2642',\n",
              " '2648',\n",
              " '265',\n",
              " '266',\n",
              " '267',\n",
              " '2678',\n",
              " '268',\n",
              " '2681',\n",
              " '27',\n",
              " '271',\n",
              " '27121',\n",
              " '2715',\n",
              " '27161',\n",
              " '271616',\n",
              " '271618',\n",
              " '27167',\n",
              " '271675',\n",
              " '271677',\n",
              " '27173',\n",
              " '271733',\n",
              " '271737',\n",
              " '271742',\n",
              " '271745',\n",
              " '271753',\n",
              " '271763',\n",
              " '271765',\n",
              " '271767',\n",
              " '271777',\n",
              " '27182',\n",
              " '272',\n",
              " '2722',\n",
              " '2728',\n",
              " '273',\n",
              " '2732',\n",
              " '27342',\n",
              " '2737',\n",
              " '274',\n",
              " '275',\n",
              " '2753',\n",
              " '2754',\n",
              " '276',\n",
              " '2761',\n",
              " '2768',\n",
              " '2771',\n",
              " '2772426316',\n",
              " '278',\n",
              " '278312',\n",
              " '2787',\n",
              " '28',\n",
              " '281',\n",
              " '2812',\n",
              " '2813',\n",
              " '282',\n",
              " '28217',\n",
              " '28287',\n",
              " '283',\n",
              " '2836',\n",
              " '284',\n",
              " '2843',\n",
              " '285',\n",
              " '286',\n",
              " '2861',\n",
              " '2868',\n",
              " '2868687',\n",
              " '287',\n",
              " '2876',\n",
              " '288',\n",
              " '2883',\n",
              " '2885',\n",
              " '2888',\n",
              " '3',\n",
              " '31',\n",
              " '311',\n",
              " '3113',\n",
              " '3117',\n",
              " '3118',\n",
              " '312',\n",
              " '3121',\n",
              " '31212',\n",
              " '3125',\n",
              " '31261',\n",
              " '313',\n",
              " '3131',\n",
              " '3132',\n",
              " '3135',\n",
              " '314',\n",
              " '31411',\n",
              " '31476',\n",
              " '315',\n",
              " '3152',\n",
              " '31545',\n",
              " '3156',\n",
              " '316',\n",
              " '3162',\n",
              " '31631',\n",
              " '31641',\n",
              " '31645',\n",
              " '317',\n",
              " '318',\n",
              " '3181',\n",
              " '3182',\n",
              " '3185',\n",
              " '31881',\n",
              " '32',\n",
              " '321',\n",
              " '3212',\n",
              " '3214',\n",
              " '322',\n",
              " '3224',\n",
              " '3227',\n",
              " '323',\n",
              " '32342',\n",
              " '32357817',\n",
              " '3237',\n",
              " '3238',\n",
              " '324',\n",
              " '3242',\n",
              " '3243',\n",
              " '3247',\n",
              " '325',\n",
              " '3252',\n",
              " '3255',\n",
              " '3258',\n",
              " '326',\n",
              " '32611',\n",
              " '3264',\n",
              " '32663',\n",
              " '3267',\n",
              " '3268',\n",
              " '327',\n",
              " '3273',\n",
              " '3274',\n",
              " '32746',\n",
              " '3277',\n",
              " '328',\n",
              " '3283',\n",
              " '33',\n",
              " '331',\n",
              " '3312635',\n",
              " '3313',\n",
              " '33135',\n",
              " '33145',\n",
              " '33155',\n",
              " '33175',\n",
              " '33181',\n",
              " '332',\n",
              " '3321',\n",
              " '3322',\n",
              " '3324',\n",
              " '3326',\n",
              " '3327',\n",
              " '3327373',\n",
              " '333',\n",
              " '33316',\n",
              " '3333',\n",
              " '33345',\n",
              " '33376',\n",
              " '334',\n",
              " '3341',\n",
              " '3341644',\n",
              " '3344',\n",
              " '33461428',\n",
              " '33467',\n",
              " '335',\n",
              " '3355',\n",
              " '33557',\n",
              " '33565',\n",
              " '336',\n",
              " '3362',\n",
              " '3364',\n",
              " '337',\n",
              " '3371',\n",
              " '33756',\n",
              " '3377',\n",
              " '338',\n",
              " '3383',\n",
              " '33841',\n",
              " '34',\n",
              " '341',\n",
              " '3411',\n",
              " '3414',\n",
              " '342',\n",
              " '3422',\n",
              " '34238',\n",
              " '3425342',\n",
              " '3426',\n",
              " '34276',\n",
              " '343',\n",
              " '3431',\n",
              " '34327',\n",
              " '34346',\n",
              " '3441',\n",
              " '3442',\n",
              " '345',\n",
              " '3452',\n",
              " '34525',\n",
              " '3458',\n",
              " '346',\n",
              " '3463',\n",
              " '3464',\n",
              " '3466',\n",
              " '347',\n",
              " '3471',\n",
              " '34748',\n",
              " '34761',\n",
              " '34768',\n",
              " '34778',\n",
              " '348',\n",
              " '3483',\n",
              " '3487',\n",
              " '34876',\n",
              " '35',\n",
              " '351',\n",
              " '35141',\n",
              " '3515',\n",
              " '35163',\n",
              " '3518',\n",
              " '352',\n",
              " '3521',\n",
              " '3522',\n",
              " '3524',\n",
              " '3527',\n",
              " '35275',\n",
              " '3528',\n",
              " '353',\n",
              " '3531',\n",
              " '3533',\n",
              " '3534',\n",
              " '35383',\n",
              " '354',\n",
              " '3541',\n",
              " '354235',\n",
              " '35435',\n",
              " '3545',\n",
              " '35485',\n",
              " '355',\n",
              " '3552',\n",
              " '35536',\n",
              " '35562',\n",
              " '3557',\n",
              " '356',\n",
              " '3561',\n",
              " '3568',\n",
              " '357',\n",
              " '3573',\n",
              " '3577',\n",
              " '358',\n",
              " '3581',\n",
              " '35814',\n",
              " '3583',\n",
              " '3585',\n",
              " '36',\n",
              " '361',\n",
              " '3612',\n",
              " '3614',\n",
              " '3617',\n",
              " '362',\n",
              " '3622',\n",
              " '36226',\n",
              " '36271',\n",
              " '3628',\n",
              " '36286',\n",
              " '363',\n",
              " '36336',\n",
              " '3638',\n",
              " '36388',\n",
              " '364',\n",
              " '3642',\n",
              " '364463',\n",
              " '365',\n",
              " '3651',\n",
              " '3652',\n",
              " '366',\n",
              " '3661',\n",
              " '36615',\n",
              " '36628',\n",
              " '36631',\n",
              " '3664',\n",
              " '3667',\n",
              " '367',\n",
              " '36726',\n",
              " '36763',\n",
              " '36777',\n",
              " '367826',\n",
              " '368',\n",
              " '3681',\n",
              " '3683',\n",
              " '3688',\n",
              " '37',\n",
              " '371',\n",
              " '3712',\n",
              " '3718',\n",
              " '372',\n",
              " '3727',\n",
              " '37275',\n",
              " '3733',\n",
              " '3735',\n",
              " '37351',\n",
              " '37354',\n",
              " '3736',\n",
              " '374',\n",
              " '37462',\n",
              " '375',\n",
              " '3755',\n",
              " '376',\n",
              " '37632',\n",
              " '3767',\n",
              " '37685',\n",
              " '377',\n",
              " '3771',\n",
              " '37772',\n",
              " '37775',\n",
              " '3778',\n",
              " '38',\n",
              " '381',\n",
              " '3814',\n",
              " '3817',\n",
              " '382',\n",
              " '383',\n",
              " '3831',\n",
              " '3836',\n",
              " '384',\n",
              " '3848',\n",
              " '385',\n",
              " '3853',\n",
              " '3858',\n",
              " '386',\n",
              " '3861',\n",
              " '387',\n",
              " '38711',\n",
              " '388',\n",
              " '3888',\n",
              " '4',\n",
              " '41',\n",
              " '411',\n",
              " '4111',\n",
              " '4117',\n",
              " '412',\n",
              " '412144',\n",
              " '413',\n",
              " '4133',\n",
              " '4135',\n",
              " '414',\n",
              " '4146',\n",
              " '415',\n",
              " '4156',\n",
              " '4157',\n",
              " '416',\n",
              " '417',\n",
              " '4176',\n",
              " '418',\n",
              " '4187',\n",
              " '4188',\n",
              " '42',\n",
              " '421',\n",
              " '4215',\n",
              " '4217',\n",
              " '422',\n",
              " '4224',\n",
              " '423',\n",
              " '4234',\n",
              " '4235',\n",
              " '424',\n",
              " '42414',\n",
              " '425',\n",
              " '426',\n",
              " '4262',\n",
              " '4263',\n",
              " '427',\n",
              " '42745',\n",
              " '4275',\n",
              " '4277',\n",
              " '428',\n",
              " '4281',\n",
              " '4282',\n",
              " '4283',\n",
              " '43',\n",
              " '431',\n",
              " '4311',\n",
              " '4312',\n",
              " '4313',\n",
              " '4315',\n",
              " '43162',\n",
              " '43163',\n",
              " '43164',\n",
              " '43165',\n",
              " '432374',\n",
              " '433',\n",
              " '4332',\n",
              " '4334',\n",
              " '434',\n",
              " '435',\n",
              " '4357',\n",
              " '436',\n",
              " '4364',\n",
              " '437',\n",
              " '438',\n",
              " '44',\n",
              " '441',\n",
              " '4415',\n",
              " '4416',\n",
              " '4417',\n",
              " '443',\n",
              " '44318',\n",
              " '4432',\n",
              " '4438',\n",
              " '444',\n",
              " '4444',\n",
              " '4445',\n",
              " '44561',\n",
              " '446',\n",
              " '447',\n",
              " '4473',\n",
              " '448453342783',\n",
              " '4486',\n",
              " '4487',\n",
              " '45',\n",
              " '451',\n",
              " '4514',\n",
              " '4515',\n",
              " '452',\n",
              " '45242',\n",
              " '453',\n",
              " '4535',\n",
              " '454',\n",
              " '4541',\n",
              " '4544',\n",
              " '4545',\n",
              " '4546',\n",
              " '455',\n",
              " '45582',\n",
              " '456',\n",
              " '4563',\n",
              " '4567',\n",
              " '4568',\n",
              " '457',\n",
              " '4573',\n",
              " '4578',\n",
              " '458',\n",
              " '4584',\n",
              " '46',\n",
              " '4611',\n",
              " '4612',\n",
              " '462',\n",
              " '4623',\n",
              " '463',\n",
              " '4631',\n",
              " '4634',\n",
              " '4636',\n",
              " '4638',\n",
              " '464',\n",
              " '465',\n",
              " '4651',\n",
              " '4653',\n",
              " '4665',\n",
              " '4667',\n",
              " '467',\n",
              " '4672',\n",
              " '4677',\n",
              " '4678',\n",
              " '468',\n",
              " '4687',\n",
              " '47',\n",
              " '471',\n",
              " '4711',\n",
              " '4712',\n",
              " '4713',\n",
              " '4714',\n",
              " '4715',\n",
              " '4715252',\n",
              " '4716',\n",
              " '4717',\n",
              " '4718',\n",
              " '472',\n",
              " '4721',\n",
              " '47217',\n",
              " '4722',\n",
              " '4723',\n",
              " '4724',\n",
              " '4725',\n",
              " '4727',\n",
              " '473',\n",
              " '4735',\n",
              " '4738',\n",
              " '474',\n",
              " '4741',\n",
              " '4742',\n",
              " '4743',\n",
              " '4744',\n",
              " '4745',\n",
              " '4746',\n",
              " '4746683',\n",
              " '4747',\n",
              " '4748',\n",
              " '475',\n",
              " '4752',\n",
              " '4753',\n",
              " '476',\n",
              " '4761',\n",
              " '4768',\n",
              " '477',\n",
              " '4772236',\n",
              " '4776',\n",
              " '4777',\n",
              " '4778',\n",
              " '478',\n",
              " '4787',\n",
              " '48',\n",
              " '481',\n",
              " '4816',\n",
              " '482',\n",
              " '483',\n",
              " '4831',\n",
              " '4832',\n",
              " '484',\n",
              " '4841424152',\n",
              " '48463',\n",
              " '4856',\n",
              " '4858',\n",
              " '486',\n",
              " '487',\n",
              " '48774',\n",
              " '488',\n",
              " '4881',\n",
              " '5',\n",
              " '51',\n",
              " '511',\n",
              " '5113',\n",
              " '5116',\n",
              " '5117',\n",
              " '511771',\n",
              " '512',\n",
              " '5125',\n",
              " '5128',\n",
              " '513',\n",
              " '514',\n",
              " '51484',\n",
              " '515',\n",
              " '516',\n",
              " '516347',\n",
              " '51647',\n",
              " '516488',\n",
              " '5166',\n",
              " '516641',\n",
              " '5168',\n",
              " '517',\n",
              " '5173',\n",
              " '518',\n",
              " '5182',\n",
              " '5183',\n",
              " '5188',\n",
              " '52',\n",
              " '521',\n",
              " '5214',\n",
              " '521782325',\n",
              " '522',\n",
              " '523',\n",
              " '524',\n",
              " '5243',\n",
              " '5246',\n",
              " '5247',\n",
              " '5248',\n",
              " '525',\n",
              " '5251',\n",
              " '5255',\n",
              " '526',\n",
              " '526271',\n",
              " '5265',\n",
              " '527',\n",
              " '5271',\n",
              " '5272',\n",
              " '5278',\n",
              " '528',\n",
              " '5282',\n",
              " '53',\n",
              " '531',\n",
              " '5317',\n",
              " '532',\n",
              " '53214',\n",
              " ...]"
            ]
          },
          "metadata": {},
          "execution_count": 25
        }
      ]
    },
    {
      "cell_type": "markdown",
      "source": [
        "Train-Test Split"
      ],
      "metadata": {
        "id": "ZsrMWEAsPVwG"
      }
    },
    {
      "cell_type": "code",
      "source": [
        "from sklearn.model_selection import train_test_split\n",
        "X_train, X_test, Y_train, Y_test = train_test_split(Vector_x, np.array(y), test_size=0.25)"
      ],
      "metadata": {
        "id": "yj6VlDTukXFy"
      },
      "execution_count": null,
      "outputs": []
    },
    {
      "cell_type": "code",
      "source": [
        "X_train.shape, X_test.shape, Y_train.shape, Y_test.shape"
      ],
      "metadata": {
        "colab": {
          "base_uri": "https://localhost:8080/"
        },
        "id": "Ng2fA6ySk8yv",
        "outputId": "dc39c222-7572-4297-c933-9174ff8f0303"
      },
      "execution_count": null,
      "outputs": [
        {
          "output_type": "execute_result",
          "data": {
            "text/plain": [
              "((4296, 35215), (1432, 35215), (4296,), (1432,))"
            ]
          },
          "metadata": {},
          "execution_count": 27
        }
      ]
    },
    {
      "cell_type": "markdown",
      "source": [
        "Classification"
      ],
      "metadata": {
        "id": "7yMVo7hhQ5Z6"
      }
    },
    {
      "cell_type": "code",
      "source": [
        "#for data that has a normal/gaussian distribution\n",
        "from sklearn.naive_bayes import GaussianNB\n",
        "clf_Gaussian = GaussianNB()\n",
        "clf_Gaussian.fit(X_train.toarray(), Y_train)\n",
        "\n",
        "y_pred1 = clf_Gaussian.predict(X_test.toarray())\n",
        "\n",
        "from sklearn.metrics import accuracy_score\n",
        "print(accuracy_score(Y_test, y_pred1))\n"
      ],
      "metadata": {
        "colab": {
          "base_uri": "https://localhost:8080/"
        },
        "id": "YfOV5vissbRc",
        "outputId": "9106d2b5-611c-4c9b-cc21-0983bf9dd096"
      },
      "execution_count": null,
      "outputs": [
        {
          "output_type": "stream",
          "name": "stdout",
          "text": [
            "0.9567039106145251\n"
          ]
        }
      ]
    },
    {
      "cell_type": "code",
      "source": [
        "#for data when there is class imbalance\n",
        "from sklearn.naive_bayes import ComplementNB\n",
        "clf_complement = ComplementNB()\n",
        "clf_complement.fit(X_train.toarray(), Y_train)\n",
        "\n",
        "y_pred2 = clf_complement.predict(X_test.toarray())\n",
        "\n",
        "from sklearn.metrics import accuracy_score\n",
        "print(accuracy_score(Y_test, y_pred2))"
      ],
      "metadata": {
        "colab": {
          "base_uri": "https://localhost:8080/"
        },
        "id": "S4sW9z1ItxIS",
        "outputId": "161ca879-242d-4d6f-e8ea-1d384aab9415"
      },
      "execution_count": null,
      "outputs": [
        {
          "output_type": "stream",
          "name": "stdout",
          "text": [
            "0.946927374301676\n"
          ]
        }
      ]
    },
    {
      "cell_type": "code",
      "source": [
        "#for data when there is multivariate input features\n",
        "from sklearn.naive_bayes import BernoulliNB\n",
        "clf_Bernoulli = BernoulliNB()\n",
        "clf_Bernoulli.fit(X_train.toarray(), Y_train)\n",
        "\n",
        "y_pred3 = clf_Bernoulli.predict(X_test.toarray())\n",
        "\n",
        "from sklearn.metrics import accuracy_score\n",
        "print(accuracy_score(Y_test, y_pred3))"
      ],
      "metadata": {
        "colab": {
          "base_uri": "https://localhost:8080/"
        },
        "id": "dkk43WU-uK9I",
        "outputId": "1767588e-2566-44ab-e2ea-f3cca625b9da"
      },
      "execution_count": null,
      "outputs": [
        {
          "output_type": "stream",
          "name": "stdout",
          "text": [
            "0.9860335195530726\n"
          ]
        }
      ]
    },
    {
      "cell_type": "markdown",
      "source": [
        "Predicting for a new input"
      ],
      "metadata": {
        "id": "IwGt_Qa9bmAH"
      }
    },
    {
      "cell_type": "code",
      "source": [
        "new_email=[]\n",
        "new_email.append(input(\"Enter your email here:\"))"
      ],
      "metadata": {
        "colab": {
          "base_uri": "https://localhost:8080/"
        },
        "id": "ryW-cuySvr0E",
        "outputId": "c28f1b2d-1005-447f-f4da-be6149908598"
      },
      "execution_count": null,
      "outputs": [
        {
          "name": "stdout",
          "output_type": "stream",
          "text": [
            "Enter your email here:https://mail.google.com/mail/u/0/?ogbl#spam/FMfcgzGpFgmLQkscgSjpfqZMsqrjXbzk\n"
          ]
        }
      ]
    },
    {
      "cell_type": "code",
      "source": [
        "s = remsc(new_email)\n",
        "Vector_email = my_Vectorizer.transform(s)"
      ],
      "metadata": {
        "id": "xgPY5JZlv3Yf"
      },
      "execution_count": null,
      "outputs": []
    },
    {
      "cell_type": "code",
      "source": [
        "pred = clf_Bernoulli.predict(Vector_email.toarray())\n",
        "pred"
      ],
      "metadata": {
        "colab": {
          "base_uri": "https://localhost:8080/"
        },
        "id": "Ps-m3Qw4wDiK",
        "outputId": "ade4a89a-6968-42dd-fb5a-694aacd86882"
      },
      "execution_count": null,
      "outputs": [
        {
          "output_type": "execute_result",
          "data": {
            "text/plain": [
              "array([1])"
            ]
          },
          "metadata": {},
          "execution_count": 37
        }
      ]
    },
    {
      "cell_type": "code",
      "source": [
        "if (pred[0]==0):\n",
        "  print('The mail is not a spam!')\n",
        "\n",
        "else:\n",
        "  print('It is a spam!')"
      ],
      "metadata": {
        "colab": {
          "base_uri": "https://localhost:8080/"
        },
        "id": "A1IZokPcwNZr",
        "outputId": "04acfdf3-9058-4919-a3a0-271c9c890925"
      },
      "execution_count": null,
      "outputs": [
        {
          "output_type": "stream",
          "name": "stdout",
          "text": [
            "It is a spam!\n"
          ]
        }
      ]
    }
  ]
}